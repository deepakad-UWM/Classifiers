{
 "cells": [
  {
   "cell_type": "markdown",
   "metadata": {
    "id": "CSz_Jyy5RSSj"
   },
   "source": [ "# Ex_PC_NBC\n",
    "\n",
    "1) Load Iris data set, we use only the 1st and 2nd feature as feature vectors X, and partition it into 3-way cross validation. We create a 150 x 3 Label matrix so that a class 1 sample is labeled as 1 0 0 , a class 2 sample 0 1 0 and a class 3 sample 0 0 1. "
   ]
    "# NBC\n",
    "\n"
 
  },
  {
   "cell_type": "code",
   "execution_count": 1,
   "metadata": {
    "colab": {
     "base_uri": "https://localhost:8080/"
    },
    "executionInfo": {
     "elapsed": 22608,
     "status": "ok",
     "timestamp": 1663017535908,
     "user": {
      "displayName": "YU HEN HU",
      "userId": "04083449072545068296"
     },
     "user_tz": 300
    },
    "id": "rv_kHfYC7wGq",
    "outputId": "bb2ae3b6-def6-4599-f125-f2fb1b8b0b88"
   },
   "outputs": [
    {
     "name": "stdout",
     "output_type": "stream",
     "text": [
      "Mounted at /content/drive\n"
     ]
    }
   ],
   "source": [
    "from google.colab import drive\n",
    "drive.mount('/content/drive')"
   ]
  },
  {
   "cell_type": "code",
   "execution_count": 2,
   "metadata": {
    "executionInfo": {
     "elapsed": 2364,
     "status": "ok",
     "timestamp": 1663017538267,
     "user": {
      "displayName": "YU HEN HU",
      "userId": "04083449072545068296"
     },
     "user_tz": 300
    },
    "id": "CN2Q69u0RCc1"
   },
   "outputs": [],
   "source": [
    "import numpy  as np\n",
    "import pandas as pd\n",
    "import matplotlib.pyplot as plt\n",
    "\n",
    "# note that winequality-red.csv has a heading at each column (header row = 1)\n",
    "tmp = pd.read_csv('/content/drive/My Drive/Colab Notebooks/data/winequality-red.csv',header=1).to_numpy()\n",
    "# tmp = pd.read_csv('iris.csv', header=None).to_numpy()\n",
    "X = tmp[:,0:-1]        # feature vectors\n",
    "y = tmp[:,-1]          # last column is the label"
   ]
  },
  {
   "cell_type": "markdown",
   "metadata": {
    "id": "vYg6gwnF9xA2"
   },
   "source": [
    "First, partition the data into 80/20 using train_test_split"
   ]
  },
  {
   "cell_type": "code",
   "execution_count": 3,
   "metadata": {
    "colab": {
     "base_uri": "https://localhost:8080/"
    },
    "executionInfo": {
     "elapsed": 314,
     "status": "ok",
     "timestamp": 1663017538574,
     "user": {
      "displayName": "YU HEN HU",
      "userId": "04083449072545068296"
     },
     "user_tz": 300
    },
    "id": "NJHzT5n690Jt",
    "outputId": "4432682e-0c6d-4ae6-87ea-1ccb546179dd"
   },
   "outputs": [
    {
     "name": "stdout",
     "output_type": "stream",
     "text": [
      "Naive Bayes score:  0.5531\n",
      "[[ 0  2  0  0  0  0]\n",
      " [ 0  1  6  3  0  0]\n",
      " [ 1  3 96 30  3  0]\n",
      " [ 0  2 41 56 20  1]\n",
      " [ 0  0  3 22 24  2]\n",
      " [ 0  0  0  0  4  0]]\n"
     ]
    }
   ],
   "source": [
    "# 80/20 train_test_split\n",
    "from sklearn.model_selection import train_test_split\n",
    "X_train, X_test, y_train, y_test = train_test_split(X, y, test_size=0.2)\n",
    "\n",
    "# develop a Naive Bayes classifier\n",
    "from sklearn.naive_bayes import GaussianNB\n",
    "gnb = GaussianNB()\n",
    "gnb.fit(X_train, y_train)\n",
    "y_gnb_score = gnb.predict_proba(X_test)\n",
    "\n",
    "print(\"Naive Bayes score: \",format(gnb.score(X_test, y_test),\".4f\"))\n",
    "\n",
    "from sklearn.metrics import confusion_matrix\n",
    "y_pred = gnb.fit(X_train, y_train).predict(X_test)\n",
    "print(confusion_matrix(y_test, y_pred))"
   ]
  }
 ],
 "metadata": {
  "colab": {
   "collapsed_sections": [],
   "provenance": []
  },
  "kernelspec": {
   "display_name": "Python 3 (ipykernel)",
   "language": "python",
   "name": "python3"
  },
  "language_info": {
   "codemirror_mode": {
    "name": "ipython",
    "version": 3
   },
   "file_extension": ".py",
   "mimetype": "text/x-python",
   "name": "python",
   "nbconvert_exporter": "python",
   "pygments_lexer": "ipython3",
   "version": "3.9.13"
  }
 },
 "nbformat": 4,
 "nbformat_minor": 1
}
