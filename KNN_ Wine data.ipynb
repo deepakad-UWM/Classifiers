{
 "cells": [
  {
   "cell_type": "code",
   "execution_count": 64,
   "metadata": {
    "executionInfo": {
     "elapsed": 118,
     "status": "ok",
     "timestamp": 1663277148255,
     "user": {
      "displayName": "YU HEN HU",
      "userId": "04083449072545068296"
     },
     "user_tz": 300
    },
    "id": "U8qYb-X9lNn1"
   },
   "outputs": [],
   "source": [
    "from google.colab import drive\n",
    "import numpy as np\n",
    "from sklearn.model_selection import train_test_split, cross_val_score\n",
    "from sklearn.neighbors import KNeighborsClassifier\n",
    "import sklearn.metrics as metrics\n",
    "\n",
    "# for easier reading np\n",
    "np.set_printoptions(precision=3,suppress=True)"
   ]
  },
  {
   "cell_type": "code",
   "execution_count": 65,
   "metadata": {
    "colab": {
     "base_uri": "https://localhost:8080/"
    },
    "executionInfo": {
     "elapsed": 2172,
     "status": "ok",
     "timestamp": 1663277150549,
     "user": {
      "displayName": "YU HEN HU",
      "userId": "04083449072545068296"
     },
     "user_tz": 300
    },
    "id": "o7fn_Emmpbkc",
    "outputId": "6fbda039-8ee3-4375-a41d-74a3e92faa25"
   },
   "outputs": [
    {
     "name": "stdout",
     "output_type": "stream",
     "text": [
      "Mounted at /content/drive\n",
      "Class labels are:  [3. 4. 5. 6. 7. 8.]\n"
     ]
    }
   ],
   "source": [
    "drive.mount('/content/drive')\n",
    "with open('/content/drive/My Drive/Colab Notebooks/data/winequality-red.csv', 'r') as f: \n",
    "  temp = np.genfromtxt(f,delimiter=',',skip_header=1)\n",
    "  X = temp[:,:-1]\n",
    "  y = temp[:,-1]\n",
    "  Labels = np.unique(y)   # class labels\n",
    "  print('Class labels are: ', Labels)"
   ]
  },
  {
   "cell_type": "code",
   "execution_count": 66,
   "metadata": {
    "colab": {
     "base_uri": "https://localhost:8080/"
    },
    "executionInfo": {
     "elapsed": 12,
     "status": "ok",
     "timestamp": 1663277150550,
     "user": {
      "displayName": "YU HEN HU",
      "userId": "04083449072545068296"
     },
     "user_tz": 300
    },
    "id": "CuQQ6RoKh7Gt",
    "outputId": "0a953b9b-7f8d-437f-b683-034b774a2a5a"
   },
   "outputs": [
    {
     "name": "stdout",
     "output_type": "stream",
     "text": [
      "Training dataset size:  (1279, 11)\n",
      "Testing dataset size:  (320, 11)\n"
     ]
    }
   ],
   "source": [
    "# 80/20 train_test_split\n",
    "X_train, X_test, y_train, y_test = train_test_split(X, y, test_size=0.2)\n",
    "print('Training dataset size: ', np.shape(X_train))\n",
    "print('Testing dataset size: ', np.shape(X_test))"
   ]
  },
  {
   "cell_type": "code",
   "execution_count": 67,
   "metadata": {
    "colab": {
     "base_uri": "https://localhost:8080/"
    },
    "executionInfo": {
     "elapsed": 538,
     "status": "ok",
     "timestamp": 1663277151079,
     "user": {
      "displayName": "YU HEN HU",
      "userId": "04083449072545068296"
     },
     "user_tz": 300
    },
    "id": "FHXv-W_fpeXt",
    "outputId": "d3ce7254-723b-4310-ee77-ab4578506f43"
   },
   "outputs": [
    {
     "name": "stdout",
     "output_type": "stream",
     "text": [
      "1  nearest neighbors, 3-fold CV mean accuracy =  0.539\n",
      "2  nearest neighbors, 3-fold CV mean accuracy =  0.493\n",
      "3  nearest neighbors, 3-fold CV mean accuracy =  0.482\n",
      "4  nearest neighbors, 3-fold CV mean accuracy =  0.493\n",
      "5  nearest neighbors, 3-fold CV mean accuracy =  0.496\n",
      "6  nearest neighbors, 3-fold CV mean accuracy =  0.486\n",
      "7  nearest neighbors, 3-fold CV mean accuracy =  0.492\n",
      "8  nearest neighbors, 3-fold CV mean accuracy =  0.503\n",
      "9  nearest neighbors, 3-fold CV mean accuracy =  0.507\n"
     ]
    }
   ],
   "source": [
    ", NearestNeighbors\n",
    "# Develop the kNN model using 3-fold CV for 1 to 9 neighbors\n",
    "kcv = 3\n",
    "for nb in range(9):\n",
    "  kNNmodel = KNeighborsClassifier(n_neighbors = nb+1)\n",
    "  cv_score = np.mean(cross_val_score(kNNmodel, X_train, y_train, cv = kcv))\n",
    "  print(nb+1, \" nearest neighbors, 3-fold CV mean accuracy = \", format(cv_score, \".3f\"))"
   ]
  },
  {
   "cell_type": "code",
   "execution_count": 68,
   "metadata": {
    "colab": {
     "base_uri": "https://localhost:8080/"
    },
    "executionInfo": {
     "elapsed": 10,
     "status": "ok",
     "timestamp": 1663277151080,
     "user": {
      "displayName": "YU HEN HU",
      "userId": "04083449072545068296"
     },
     "user_tz": 300
    },
    "id": "jjVxWivjpHAd",
    "outputId": "53559977-eb17-4648-94f2-3e6ad97474a9"
   },
   "outputs": [
    {
     "name": "stdout",
     "output_type": "stream",
     "text": [
      "Confusion matrix: \n",
      " [[ 0  2  0  0  1  0]\n",
      " [ 1  0  4  7  1  0]\n",
      " [ 1  4 93 37  3  1]\n",
      " [ 0  1 35 73 12  0]\n",
      " [ 0  0  8  9 23  0]\n",
      " [ 0  0  0  2  2  0]]\n",
      "Classification Rate of 9 neighbors: 0.590625 \n",
      "\n"
     ]
    }
   ],
   "source": [
    "# Use the # neighbors that gives highest 3-fold CV mean accuracy to develop a model\n",
    "kNNmodel = KNeighborsClassifier(n_neighbors = 1)\n",
    "kNNmodel.fit(X_train, y_train)\n",
    "from sklearn.metrics import confusion_matrix\n",
    "y_pred = kNNmodel.predict(X_test)\n",
    "print(\"Confusion matrix: \\n\",confusion_matrix(y_test, y_pred))\n",
    "print('Classification Rate of %i neighbors: %f \\n'% (nb+1,metrics.accuracy_score(y_test,y_pred)))"
   ]
  },
  {
   "cell_type": "code",
   "execution_count": 69,
   "metadata": {
    "colab": {
     "base_uri": "https://localhost:8080/"
    },
    "executionInfo": {
     "elapsed": 132,
     "status": "ok",
     "timestamp": 1663277151204,
     "user": {
      "displayName": "YU HEN HU",
      "userId": "04083449072545068296"
     },
     "user_tz": 300
    },
    "id": "Y4hNLufpCK-L",
    "outputId": "f6741299-43a9-459b-986b-a0c42dd5ae02"
   },
   "outputs": [
    {
     "name": "stdout",
     "output_type": "stream",
     "text": [
      "Classification Rate of 9 neighbors: 0.590625 \n",
      "\n"
     ]
    }
   ],
   "source": [
    "print('Classification Rate of %i neighbors: %f \\n'% (nb+1,metrics.accuracy_score(y_test,y_pred)))"
   ]
  },
  {
   "cell_type": "code",
   "execution_count": 70,
   "metadata": {
    "executionInfo": {
     "elapsed": 1028,
     "status": "ok",
     "timestamp": 1663277152227,
     "user": {
      "displayName": "YU HEN HU",
      "userId": "04083449072545068296"
     },
     "user_tz": 300
    },
    "id": "CxoMT4ZQpd-v"
   },
   "outputs": [],
   "source": [
    "drive.flush_and_unmount()"
   ]
  }
 ],
 "metadata": {
  "colab": {
   "collapsed_sections": [],
   "provenance": []
  },
  "kernelspec": {
   "display_name": "Python 3 (ipykernel)",
   "language": "python",
   "name": "python3"
  },
  "language_info": {
   "codemirror_mode": {
    "name": "ipython",
    "version": 3
   },
   "file_extension": ".py",
   "mimetype": "text/x-python",
   "name": "python",
   "nbconvert_exporter": "python",
   "pygments_lexer": "ipython3",
   "version": "3.9.13"
  }
 },
 "nbformat": 4,
 "nbformat_minor": 1
}
